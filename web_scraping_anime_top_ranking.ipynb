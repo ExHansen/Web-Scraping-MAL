{
 "cells": [
  {
   "cell_type": "markdown",
   "id": "dfb7c0b3-0450-41d3-8d1e-63ac821201ae",
   "metadata": {},
   "source": [
    "This Data was scrape on 10th May 2025"
   ]
  },
  {
   "cell_type": "markdown",
   "id": "9f07a87f-5700-4bec-b98e-fb039f47d58c",
   "metadata": {},
   "source": [
    "# Data Preparation"
   ]
  },
  {
   "cell_type": "code",
   "execution_count": 1,
   "id": "41a0ffa8-7b8f-4af7-904c-eac82e5530c4",
   "metadata": {},
   "outputs": [],
   "source": [
    "import requests as rs\n",
    "import pandas as pd\n",
    "import matplotlib.pyplot as plt\n",
    "import seaborn as sns\n",
    "import duckdb as ddb # Using \n",
    "from bs4 import BeautifulSoup as bs\n",
    "\n",
    "con = ddb.connect()"
   ]
  },
  {
   "cell_type": "markdown",
   "id": "e9a28137-78c9-458e-b4b6-678e2b09a797",
   "metadata": {},
   "source": [
    "# Web Scraping"
   ]
  },
  {
   "cell_type": "code",
   "execution_count": 2,
   "id": "0ccce975-a526-46fe-82fc-9319c08cb32b",
   "metadata": {},
   "outputs": [],
   "source": [
    "urls = [\n",
    "    'https://myanimelist.net/topanime.php?type=bypopularity',\n",
    "    'https://myanimelist.net/topanime.php?type=bypopularity&limit=50',\n",
    "    'https://myanimelist.net/topanime.php?type=bypopularity&limit=100',\n",
    "    'https://myanimelist.net/topanime.php?type=bypopularity&limit=150',\n",
    "    'https://myanimelist.net/topanime.php?type=bypopularity&limit=200',\n",
    "]\n",
    "\n",
    "data = []\n",
    "header = []\n",
    "\n",
    "for url in urls:\n",
    "    response = rs.get(url)\n",
    "    soup = bs(response.content, 'html.parser')\n",
    "    \n",
    "\n",
    "    table = soup.find('table', class_='top-ranking-table')\n",
    "    header_row = soup.find('tr', class_='table-header')\n",
    "    rows = table.find_all('tr', class_='ranking-list')\n",
    "    \n",
    "    if header_row and not header:\n",
    "        header_columns = header_row.find_all('td')\n",
    "        for td in header_columns[:3]:\n",
    "            header.append(td.text.strip())\n",
    "        header.append('episodes')\n",
    "        header.append('date_aired')\n",
    "        header.append('members')\n",
    "    \n",
    "    for tr in rows:\n",
    "        row_data = []\n",
    "\n",
    "        # Rank\n",
    "        rank = tr.find('td', class_='rank')\n",
    "        row_data.append(rank.text.strip() if rank else '')\n",
    "\n",
    "        # Title\n",
    "        title_td = tr.find('td', class_='title')\n",
    "        title_div = title_td.find('div', class_='di-ib clearfix') if title_td else None\n",
    "        row_data.append(title_div.text.strip() if title_div else '')\n",
    "\n",
    "        # Score\n",
    "        score = tr.find('td', class_='score')\n",
    "        row_data.append(score.text.strip() if score else '')\n",
    "\n",
    "        # Episodes\n",
    "        info_div = tr.find('div', class_='information di-ib mt4')\n",
    "        total_eps = ''\n",
    "        if info_div:\n",
    "            lines = list(info_div.stripped_strings)\n",
    "            total_eps = lines[0]\n",
    "        row_data.append(total_eps)\n",
    "\n",
    "        # Date\n",
    "        total_date = ''\n",
    "        if info_div:\n",
    "            lines = list(info_div.stripped_strings)\n",
    "            total_date = lines[1]\n",
    "        row_data.append(total_date)\n",
    "        \n",
    "        # Member\n",
    "        total_members = ''\n",
    "        if info_div:\n",
    "            lines = list(info_div.stripped_strings)\n",
    "            total_members = lines[2]\n",
    "        row_data.append(total_members)\n",
    "\n",
    "        data.append(row_data)"
   ]
  },
  {
   "cell_type": "code",
   "execution_count": 3,
   "id": "75eaef48-659a-4982-9c29-1afd84157646",
   "metadata": {},
   "outputs": [
    {
     "name": "stdout",
     "output_type": "stream",
     "text": [
      "[['1', 'Shingeki no Kyojin', '8.56', 'TV (25 eps)', 'Apr 2013 - Sep 2013', '4,158,024 members'], ['2', 'Death Note', '8.62', 'TV (37 eps)', 'Oct 2006 - Jun 2007', '4,102,384 members'], ['3', 'Fullmetal Alchemist: Brotherhood', '9.10', 'TV (64 eps)', 'Apr 2009 - Jul 2010', '3,519,653 members'], ['4', 'One Punch Man', '8.49', 'TV (12 eps)', 'Oct 2015 - Dec 2015', '3,380,575 members'], ['5', 'Kimetsu no Yaiba', '8.43', 'TV (26 eps)', 'Apr 2019 - Sep 2019', '3,248,495 members'], ['6', 'Sword Art Online', '7.22', 'TV (25 eps)', 'Jul 2012 - Dec 2012', '3,196,108 members'], ['7', 'Boku no Hero Academia', '7.84', 'TV (13 eps)', 'Apr 2016 - Jun 2016', '3,167,551 members'], ['8', 'Hunter x Hunter (2011)', '9.03', 'TV (148 eps)', 'Oct 2011 - Sep 2014', '3,019,844 members'], ['9', 'Naruto', '8.01', 'TV (220 eps)', 'Oct 2002 - Feb 2007', '2,989,182 members'], ['10', 'Tokyo Ghoul', '7.79', 'TV (12 eps)', 'Jul 2014 - Sep 2014', '2,944,241 members'], ['11', 'Kimi no Na wa.', '8.83', 'Movie (1 eps)', 'Aug 2016 - Aug 2016', '2,894,450 members'], ['12', 'Shingeki no Kyojin Season 2', '8.53', 'TV (12 eps)', 'Apr 2017 - Jun 2017', '2,876,489 members'], ['13', 'Jujutsu Kaisen', '8.55', 'TV (24 eps)', 'Oct 2020 - Mar 2021', '2,802,436 members'], ['14', 'Steins;Gate', '9.07', 'TV (24 eps)', 'Apr 2011 - Sep 2011', '2,695,862 members'], ['15', 'Boku no Hero Academia 2nd Season', '8.06', 'TV (25 eps)', 'Apr 2017 - Sep 2017', '2,631,158 members'], ['16', 'Naruto: Shippuuden', '8.28', 'TV (500 eps)', 'Feb 2007 - Mar 2017', '2,622,491 members'], ['17', 'One Piece', '8.73', 'TV (? eps)', 'Oct 1999 -', '2,527,977 members'], ['18', 'Shingeki no Kyojin Season 3', '8.63', 'TV (12 eps)', 'Jul 2018 - Oct 2018', '2,522,850 members'], ['19', 'No Game No Life', '8.05', 'TV (12 eps)', 'Apr 2014 - Jun 2014', '2,487,530 members'], ['20', 'Koe no Katachi', '8.93', 'Movie (1 eps)', 'Sep 2016 - Sep 2016', '2,476,783 members'], ['21', 'Shingeki no Kyojin Season 3 Part 2', '9.05', 'TV (10 eps)', 'Apr 2019 - Jul 2019', '2,442,787 members'], ['22', 'Code Geass: Hangyaku no Lelouch', '8.70', 'TV (25 eps)', 'Oct 2006 - Jul 2007', '2,364,233 members'], ['23', 'Re:Zero kara Hajimeru Isekai Seikatsu', '8.24', 'TV (25 eps)', 'Apr 2016 - Sep 2016', '2,337,357 members'], ['24', 'Shigatsu wa Kimi no Uso', '8.64', 'TV (22 eps)', 'Oct 2014 - Mar 2015', '2,323,740 members'], ['25', 'Toradora!', '8.05', 'TV (25 eps)', 'Oct 2008 - Mar 2009', '2,291,552 members'], ['26', 'Boku no Hero Academia 3rd Season', '7.99', 'TV (25 eps)', 'Apr 2018 - Sep 2018', '2,288,013 members'], ['27', 'Noragami', '7.94', 'TV (12 eps)', 'Jan 2014 - Mar 2014', '2,249,142 members'], ['28', 'Mob Psycho 100', '8.49', 'TV (12 eps)', 'Jul 2016 - Sep 2016', '2,207,084 members'], ['29', 'Boku dake ga Inai Machi', '8.30', 'TV (12 eps)', 'Jan 2016 - Mar 2016', '2,200,222 members'], ['30', 'Akame ga Kill!', '7.47', 'TV (24 eps)', 'Jul 2014 - Dec 2014', '2,185,940 members'], ['31', 'Shingeki no Kyojin: The Final Season', '8.78', 'TV (16 eps)', 'Dec 2020 - Mar 2021', '2,153,245 members'], ['32', 'Angel Beats!', '8.05', 'TV (13 eps)', 'Apr 2010 - Jun 2010', '2,143,057 members'], ['33', 'Nanatsu no Taizai', '7.62', 'TV (24 eps)', 'Oct 2014 - Mar 2015', '2,139,216 members'], ['34', 'Ansatsu Kyoushitsu', '8.07', 'TV (22 eps)', 'Jan 2015 - Jun 2015', '2,123,685 members'], ['35', 'Bleach', '7.97', 'TV (366 eps)', 'Oct 2004 - Mar 2012', '2,095,857 members'], ['36', 'Haikyuu!!', '8.44', 'TV (25 eps)', 'Apr 2014 - Sep 2014', '2,080,411 members'], ['37', 'Mirai Nikki (TV)', '7.38', 'TV (26 eps)', 'Oct 2011 - Apr 2012', '2,080,323 members'], ['38', 'Yakusoku no Neverland', '8.48', 'TV (12 eps)', 'Jan 2019 - Mar 2019', '2,069,141 members'], ['39', 'Kono Subarashii Sekai ni Shukufuku wo!', '8.09', 'TV (10 eps)', 'Jan 2016 - Mar 2016', '2,068,200 members'], ['40', 'Sword Art Online II', '6.71', 'TV (24 eps)', 'Jul 2014 - Dec 2014', '2,051,892 members'], ['41', 'Ao no Exorcist', '7.47', 'TV (25 eps)', 'Apr 2011 - Oct 2011', '2,001,426 members'], ['42', 'Cowboy Bebop', '8.75', 'TV (26 eps)', 'Apr 1998 - Apr 1999', '1,968,259 members'], ['43', 'Kiseijuu: Sei no Kakuritsu', '8.32', 'TV (24 eps)', 'Oct 2014 - Mar 2015', '1,963,713 members'], ['44', 'Sen to Chihiro no Kamikakushi', '8.77', 'Movie (1 eps)', 'Jul 2001 - Jul 2001', '1,948,646 members'], ['45', 'Shinseiki Evangelion', '8.36', 'TV (26 eps)', 'Oct 1995 - Mar 1996', '1,924,730 members'], ['46', 'Violet Evergarden', '8.68', 'TV (13 eps)', 'Jan 2018 - Apr 2018', '1,896,771 members'], ['47', 'Code Geass: Hangyaku no Lelouch R2', '8.91', 'TV (25 eps)', 'Apr 2008 - Sep 2008', '1,871,192 members'], ['48', 'Dr. Stone', '8.27', 'TV (24 eps)', 'Jul 2019 - Dec 2019', '1,855,017 members'], ['49', 'Death Parade', '8.14', 'TV (12 eps)', 'Jan 2015 - Mar 2015', '1,853,436 members'], ['50', 'Seishun Buta Yarou wa Bunny Girl Senpai no Yume wo Minai', '8.23', 'TV (13 eps)', 'Oct 2018 - Dec 2018', '1,851,690 members'], ['51', 'Kaguya-sama wa Kokurasetai: Tensai-tachi no Renai Zunousen', '8.40', 'TV (12 eps)', 'Jan 2019 - Mar 2019', '1,844,724 members'], ['52', 'Tokyo Ghoul √A', '7.02', 'TV (12 eps)', 'Jan 2015 - Mar 2015', '1,841,345 members'], ['53', 'Boku no Hero Academia 4th Season', '7.86', 'TV (25 eps)', 'Oct 2019 - Apr 2020', '1,820,646 members'], ['54', 'Fairy Tail', '7.57', 'TV (175 eps)', 'Oct 2009 - Mar 2013', '1,800,189 members'], ['55', 'One Punch Man 2nd Season', '7.53', 'TV (12 eps)', 'Apr 2019 - Jul 2019', '1,795,931 members'], ['56', 'Black Clover', '8.14', 'TV (170 eps)', 'Oct 2017 - Mar 2021', '1,792,677 members'], ['57', 'Kill la Kill', '8.03', 'TV (24 eps)', 'Oct 2013 - Mar 2014', '1,792,197 members'], ['58', 'JoJo no Kimyou na Bouken (TV)', '7.87', 'TV (26 eps)', 'Oct 2012 - Apr 2013', '1,760,788 members'], ['59', 'Chainsaw Man', '8.45', 'TV (12 eps)', 'Oct 2022 - Dec 2022', '1,748,046 members'], ['60', 'Spy x Family', '8.46', 'TV (12 eps)', 'Apr 2022 - Jun 2022', '1,739,783 members'], ['61', 'Darling in the FranXX', '7.19', 'TV (24 eps)', 'Jan 2018 - Jul 2018', '1,735,402 members'], ['62', 'Another', '7.46', 'TV (12 eps)', 'Jan 2012 - Mar 2012', '1,730,046 members'], ['63', 'Shokugeki no Souma', '8.12', 'TV (24 eps)', 'Apr 2015 - Sep 2015', '1,702,889 members'], ['64', 'Soul Eater', '7.85', 'TV (51 eps)', 'Apr 2008 - Mar 2009', '1,699,019 members'], ['65', 'Psycho-Pass', '8.33', 'TV (22 eps)', 'Oct 2012 - Mar 2013', '1,698,092 members'], ['66', 'Charlotte', '7.75', 'TV (13 eps)', 'Jul 2015 - Sep 2015', '1,693,035 members'], ['67', 'Tengen Toppa Gurren Lagann', '8.64', 'TV (27 eps)', 'Apr 2007 - Sep 2007', '1,691,587 members'], ['68', 'Tate no Yuusha no Nariagari', '7.93', 'TV (25 eps)', 'Jan 2019 - Jun 2019', '1,688,074 members'], ['69', 'Overlord', '7.90', 'TV (13 eps)', 'Jul 2015 - Sep 2015', '1,687,661 members'], ['70', 'Vinland Saga', '8.77', 'TV (24 eps)', 'Jul 2019 - Dec 2019', '1,675,959 members'], ['71', 'Kimetsu no Yaiba Movie: Mugen Ressha-hen', '8.56', 'Movie (1 eps)', 'Oct 2020 - Oct 2020', '1,665,577 members'], ['72', 'Ano Hi Mita Hana no Namae wo Bokutachi wa Mada Shiranai.', '8.29', 'TV (11 eps)', 'Apr 2011 - Jun 2011', '1,661,792 members'], ['73', 'Mob Psycho 100 II', '8.78', 'TV (13 eps)', 'Jan 2019 - Apr 2019', '1,638,973 members'], ['74', 'Hataraku Maou-sama!', '7.71', 'TV (13 eps)', 'Apr 2013 - Jun 2013', '1,618,683 members'], ['75', 'Dungeon ni Deai wo Motomeru no wa Machigatteiru Darou ka', '7.53', 'TV (13 eps)', 'Apr 2015 - Jun 2015', '1,602,916 members'], ['76', 'Kimetsu no Yaiba: Yuukaku-hen', '8.72', 'TV (11 eps)', 'Dec 2021 - Feb 2022', '1,597,566 members'], ['77', 'Kono Subarashii Sekai ni Shukufuku wo! 2', '8.25', 'TV (10 eps)', 'Jan 2017 - Mar 2017', '1,594,560 members'], ['78', 'Elfen Lied', '7.46', 'TV (13 eps)', 'Jul 2004 - Oct 2004', '1,569,700 members'], ['79', 'Highschool of the Dead', '7.06', 'TV (12 eps)', 'Jul 2010 - Sep 2010', '1,565,741 members'], ['80', 'Kakegurui', '7.22', 'TV (12 eps)', 'Jul 2017 - Sep 2017', '1,561,314 members'], ['81', 'Tensei shitara Slime Datta Ken', '8.14', 'TV (24 eps)', 'Oct 2018 - Mar 2019', '1,557,262 members'], ['82', 'Fate/Zero', '8.27', 'TV (13 eps)', 'Oct 2011 - Dec 2011', '1,556,450 members'], ['83', 'Noragami Aragoto', '8.14', 'TV (13 eps)', 'Oct 2015 - Dec 2015', '1,518,843 members'], ['84', 'Fullmetal Alchemist', '8.11', 'TV (51 eps)', 'Oct 2003 - Oct 2004', '1,517,562 members'], ['85', 'Horimiya', '8.19', 'TV (13 eps)', 'Jan 2021 - Apr 2021', '1,516,087 members'], ['86', 'Ansatsu Kyoushitsu 2nd Season', '8.47', 'TV (25 eps)', 'Jan 2016 - Jul 2016', '1,508,079 members'], ['87', 'Yahari Ore no Seishun Love Comedy wa Machigatteiru.', '8.00', 'TV (13 eps)', 'Apr 2013 - Jun 2013', '1,507,855 members'], ['88', 'Haikyuu!! Second Season', '8.62', 'TV (25 eps)', 'Oct 2015 - Mar 2016', '1,505,678 members'], ['89', 'Bungou Stray Dogs', '7.81', 'TV (12 eps)', 'Apr 2016 - Jun 2016', '1,488,993 members'], ['90', 'High School DxD', '7.32', 'TV (12 eps)', 'Jan 2012 - Mar 2012', '1,488,753 members'], ['91', 'Made in Abyss', '8.63', 'TV (13 eps)', 'Jul 2017 - Sep 2017', '1,474,509 members'], ['92', 'Mushoku Tensei: Isekai Ittara Honki Dasu', '8.35', 'TV (11 eps)', 'Jan 2021 - Mar 2021', '1,464,635 members'], ['93', 'Clannad', '7.99', 'TV (23 eps)', 'Oct 2007 - Mar 2008', '1,464,175 members'], ['94', 'Durarara!!', '8.09', 'TV (24 eps)', 'Jan 2010 - Jun 2010', '1,454,942 members'], ['95', 'Bakemonogatari', '8.32', 'TV (15 eps)', 'Jul 2009 - Jun 2010', '1,451,022 members'], ['96', 'Enen no Shouboutai', '7.72', 'TV (24 eps)', 'Jul 2019 - Dec 2019', '1,447,296 members'], ['97', 'Shingeki no Kyojin: The Final Season Part 2', '8.76', 'TV (12 eps)', 'Jan 2022 - Apr 2022', '1,436,719 members'], ['98', 'Hyouka', '8.06', 'TV (22 eps)', 'Apr 2012 - Sep 2012', '1,433,723 members'], ['99', 'Kaguya-sama wa Kokurasetai? Tensai-tachi no Renai Zunousen', '8.62', 'TV (12 eps)', 'Apr 2020 - Jun 2020', '1,427,307 members'], ['100', 'Howl no Ugoku Shiro', '8.67', 'Movie (1 eps)', 'Nov 2004 - Nov 2004', '1,421,637 members'], ['101', 'Chuunibyou demo Koi ga Shitai!', '7.70', 'TV (12 eps)', 'Oct 2012 - Dec 2012', '1,413,872 members'], ['102', 'Owari no Seraph', '7.48', 'TV (12 eps)', 'Apr 2015 - Jun 2015', '1,402,331 members'], ['103', 'Youkoso Jitsuryoku Shijou Shugi no Kyoushitsu e', '7.85', 'TV (12 eps)', 'Jul 2017 - Sep 2017', '1,378,577 members'], ['104', 'Mahou Shoujo Madoka★Magica', '8.38', 'TV (12 eps)', 'Jan 2011 - Apr 2011', '1,352,631 members'], ['105', 'Tokyo Revengers', '7.86', 'TV (24 eps)', 'Apr 2021 - Sep 2021', '1,339,856 members'], ['106', 'Mononoke Hime', '8.66', 'Movie (1 eps)', 'Jul 1997 - Jul 1997', '1,323,794 members'], ['107', 'Dororo', '8.25', 'TV (24 eps)', 'Jan 2019 - Jun 2019', '1,309,543 members'], ['108', 'Samurai Champloo', '8.51', 'TV (26 eps)', 'May 2004 - Mar 2005', '1,299,057 members'], ['109', 'Kaichou wa Maid-sama!', '7.99', 'TV (26 eps)', 'Apr 2010 - Sep 2010', '1,298,892 members'], ['110', 'JoJo no Kimyou na Bouken Part 3: Stardust Crusaders', '8.11', 'TV (24 eps)', 'Apr 2014 - Sep 2014', '1,293,964 members'], ['111', 'Sakura-sou no Pet na Kanojo', '8.05', 'TV (24 eps)', 'Oct 2012 - Mar 2013', '1,290,628 members'], ['112', 'Kobayashi-san Chi no Maid Dragon', '7.92', 'TV (13 eps)', 'Jan 2017 - Apr 2017', '1,287,281 members'], ['113', 'Deadman Wonderland', '7.13', 'TV (12 eps)', 'Apr 2011 - Jul 2011', '1,283,700 members'], ['114', 'Dragon Ball Z', '8.20', 'TV (291 eps)', 'Apr 1989 - Jan 1996', '1,280,684 members'], ['115', 'Boku no Hero Academia 5th Season', '7.35', 'TV (25 eps)', 'Mar 2021 - Sep 2021', '1,274,747 members'], ['116', 'Haikyuu!! Karasuno Koukou vs. Shiratorizawa Gakuen Koukou', '8.77', 'TV (10 eps)', 'Oct 2016 - Dec 2016', '1,273,494 members'], ['117', 'Kuroko no Basket', '8.05', 'TV (25 eps)', 'Apr 2012 - Sep 2012', '1,262,588 members'], ['118', 'Guilty Crown', '7.40', 'TV (22 eps)', 'Oct 2011 - Mar 2012', '1,251,739 members'], ['119', 'Tokyo Ghoul:re', '6.37', 'TV (12 eps)', 'Apr 2018 - Jun 2018', '1,250,029 members'], ['120', 'Clannad: After Story', '8.93', 'TV (24 eps)', 'Oct 2008 - Mar 2009', '1,243,132 members'], ['121', 'Kuroshitsuji', '7.65', 'TV (24 eps)', 'Oct 2008 - Mar 2009', '1,234,608 members'], ['122', 'Monster', '8.89', 'TV (74 eps)', 'Apr 2004 - Sep 2005', '1,230,741 members'], ['123', 'Zankyou no Terror', '8.08', 'TV (11 eps)', 'Jul 2014 - Sep 2014', '1,229,175 members'], ['124', 'Devilman: Crybaby', '7.74', 'ONA (10 eps)', 'Jan 2018 - Jan 2018', '1,220,431 members'], ['125', 'Nisekoi', '7.56', 'TV (20 eps)', 'Jan 2014 - May 2014', '1,212,587 members'], ['126', 'Kyoukai no Kanata', '7.72', 'TV (12 eps)', 'Oct 2013 - Dec 2013', '1,211,114 members'], ['127', 'Re:Zero kara Hajimeru Isekai Seikatsu 2nd Season', '8.33', 'TV (13 eps)', 'Jul 2020 - Sep 2020', '1,204,756 members'], ['128', 'JoJo no Kimyou na Bouken Part 4: Diamond wa Kudakenai', '8.50', 'TV (39 eps)', 'Apr 2016 - Dec 2016', '1,196,262 members'], ['129', 'Goblin Slayer', '7.42', 'TV (12 eps)', 'Oct 2018 - Dec 2018', '1,189,686 members'], ['130', 'Jujutsu Kaisen 2nd Season', '8.75', 'TV (23 eps)', 'Jul 2023 - Dec 2023', '1,187,826 members'], ['131', 'Ouran Koukou Host Club', '8.16', 'TV (26 eps)', 'Apr 2006 - Sep 2006', '1,184,515 members'], ['132', 'Sono Bisque Doll wa Koi wo Suru', '8.15', 'TV (12 eps)', 'Jan 2022 - Mar 2022', '1,183,240 members'], ['133', 'Saiki Kusuo no Ψ-nan', '8.41', 'TV (120 eps)', 'Jul 2016 - Dec 2016', '1,183,034 members'], ['134', 'JoJo no Kimyou na Bouken Part 3: Stardust Crusaders - Egypt-hen', '8.44', 'TV (24 eps)', 'Jan 2015 - Jun 2015', '1,182,160 members'], ['135', 'Shokugeki no Souma: Ni no Sara', '8.06', 'TV (13 eps)', 'Jul 2016 - Sep 2016', '1,177,060 members'], ['136', 'Nanatsu no Taizai: Imashime no Fukkatsu', '7.54', 'TV (24 eps)', 'Jan 2018 - Jun 2018', '1,172,124 members'], ['137', 'Fate/Zero 2nd Season', '8.54', 'TV (12 eps)', 'Apr 2012 - Jun 2012', '1,159,437 members'], ['138', 'Log Horizon', '7.90', 'TV (25 eps)', 'Oct 2013 - Mar 2014', '1,156,073 members'], ['139', 'Dr. Stone: Stone Wars', '8.15', 'TV (11 eps)', 'Jan 2021 - Mar 2021', '1,134,326 members'], ['140', 'Tonari no Kaibutsu-kun', '7.46', 'TV (13 eps)', 'Oct 2012 - Dec 2012', '1,131,374 members'], ['141', 'Fate/stay night: Unlimited Blade Works', '8.18', 'TV (12 eps)', 'Oct 2014 - Dec 2014', '1,130,752 members'], ['142', 'Tonari no Totoro', '8.25', 'Movie (1 eps)', 'Apr 1988 - Apr 1988', '1,118,455 members'], ['143', 'Yahari Ore no Seishun Love Comedy wa Machigatteiru. Zoku', '8.20', 'TV (13 eps)', 'Apr 2015 - Jun 2015', '1,117,888 members'], ['144', 'Mahouka Koukou no Rettousei', '7.37', 'TV (26 eps)', 'Apr 2014 - Sep 2014', '1,117,399 members'], ['145', 'Gintama', '8.93', 'TV (201 eps)', 'Apr 2006 - Mar 2010', '1,115,518 members'], ['146', 'Sousou no Frieren', '9.30', 'TV (28 eps)', 'Sep 2023 - Mar 2024', '1,114,278 members'], ['147', 'Jujutsu Kaisen 0 Movie', '8.40', 'Movie (1 eps)', 'Dec 2021 - Dec 2021', '1,113,590 members'], ['148', 'Sword Art Online: Alicization', '7.57', 'TV (24 eps)', 'Oct 2018 - Mar 2019', '1,101,209 members'], ['149', 'JoJo no Kimyou na Bouken Part 5: Ougon no Kaze', '8.58', 'TV (39 eps)', 'Oct 2018 - Jul 2019', '1,097,103 members'], ['150', 'Dragon Ball', '7.98', 'TV (153 eps)', 'Feb 1986 - Apr 1989', '1,095,694 members'], ['151', 'ReLIFE', '7.96', 'TV (13 eps)', 'Jul 2016 - Sep 2016', '1,094,408 members'], ['152', 'Golden Time', '7.74', 'TV (24 eps)', 'Oct 2013 - Mar 2014', '1,093,800 members'], ['153', 'K-On!', '7.86', 'TV (13 eps)', 'Apr 2009 - Jun 2009', '1,092,357 members'], ['154', 'Magi: The Labyrinth of Magic', '8.01', 'TV (25 eps)', 'Oct 2012 - Mar 2013', '1,087,863 members'], ['155', 'Overlord II', '7.75', 'TV (13 eps)', 'Jan 2018 - Apr 2018', '1,086,821 members'], ['156', 'Date A Live', '7.14', 'TV (12 eps)', 'Apr 2013 - Jun 2013', '1,082,629 members'], ['157', 'Tenki no Ko', '8.27', 'Movie (1 eps)', 'Jul 2019 - Jul 2019', '1,070,886 members'], ['158', 'Black Lagoon', '8.03', 'TV (12 eps)', 'Apr 2006 - Jun 2006', '1,063,817 members'], ['159', 'Prison School', '7.59', 'TV (12 eps)', 'Jul 2015 - Sep 2015', '1,062,422 members'], ['160', 'Wotaku ni Koi wa Muzukashii', '7.92', 'TV (11 eps)', 'Apr 2018 - Jun 2018', '1,051,519 members'], ['161', 'Tensei shitara Slime Datta Ken 2nd Season', '8.36', 'TV (12 eps)', 'Jan 2021 - Mar 2021', '1,048,854 members'], ['162', 'Kimi no Suizou wo Tabetai', '8.55', 'Movie (1 eps)', 'Sep 2018 - Sep 2018', '1,045,824 members'], ['163', 'Fairy Tail (2014)', '7.66', 'TV (102 eps)', 'Apr 2014 - Mar 2016', '1,043,263 members'], ['164', 'Kanojo, Okarishimasu', '6.91', 'TV (12 eps)', 'Jul 2020 - Sep 2020', '1,043,247 members'], ['165', 'Spy x Family Part 2', '8.22', 'TV (13 eps)', 'Oct 2022 - Dec 2022', '1,037,712 members'], ['166', 'Mushoku Tensei: Isekai Ittara Honki Dasu Part 2', '8.64', 'TV (12 eps)', 'Oct 2021 - Dec 2021', '1,037,548 members'], ['167', 'Kaguya-sama wa Kokurasetai: Ultra Romantic', '8.98', 'TV (13 eps)', 'Apr 2022 - Jun 2022', '1,029,055 members'], ['168', 'Kami no Tou', '7.56', 'TV (13 eps)', 'Apr 2020 - Jun 2020', '1,024,658 members'], ['169', 'Kimi ni Todoke', '8.01', 'TV (25 eps)', 'Oct 2009 - Mar 2010', '1,019,236 members'], ['170', '5-toubun no Hanayome', '7.63', 'TV (12 eps)', 'Jan 2019 - Mar 2019', '1,015,184 members'], ['171', 'Shokugeki no Souma: San no Sara', '7.98', 'TV (12 eps)', 'Oct 2017 - Dec 2017', '1,013,326 members'], ['172', 'Haikyuu!! To the Top', '8.37', 'TV (13 eps)', 'Jan 2020 - Apr 2020', '1,002,457 members'], ['173', 'Rakudai Kishi no Cavalry', '7.42', 'TV (12 eps)', 'Oct 2015 - Dec 2015', '999,028 members'], ['174', 'Plastic Memories', '7.91', 'TV (13 eps)', 'Apr 2015 - Jun 2015', '991,766 members'], ['175', 'Re:Zero kara Hajimeru Isekai Seikatsu 2nd Season Part 2', '8.43', 'TV (12 eps)', 'Jan 2021 - Mar 2021', '991,564 members'], ['176', 'Youjo Senki', '7.96', 'TV (12 eps)', 'Jan 2017 - Mar 2017', '988,302 members'], ['177', 'Shinseiki Evangelion Movie: Air/Magokoro wo, Kimi ni', '8.56', 'Movie (1 eps)', 'Jul 1997 - Jul 1997', '987,472 members'], ['178', 'Kimetsu no Yaiba: Katanakaji no Sato-hen', '8.19', 'TV (11 eps)', 'Apr 2023 - Jun 2023', '983,510 members'], ['179', 'Byousoku 5 Centimeter', '7.55', 'Movie (3 eps)', 'Mar 2007 - Mar 2007', '981,848 members'], ['180', 'Mahoutsukai no Yome', '8.05', 'TV (24 eps)', 'Oct 2017 - Mar 2018', '981,017 members'], ['181', 'Darker than Black: Kuro no Keiyakusha', '8.04', 'TV (25 eps)', 'Apr 2007 - Sep 2007', '980,384 members'], ['182', 'Hellsing Ultimate', '8.35', 'OVA (10 eps)', 'Feb 2006 - Dec 2012', '979,178 members'], ['183', 'Danganronpa: Kibou no Gakuen to Zetsubou no Koukousei The Animation', '7.20', 'TV (13 eps)', 'Jul 2013 - Sep 2013', '976,191 members'], ['184', 'Fate/stay night', '7.27', 'TV (24 eps)', 'Jan 2006 - Jun 2006', '976,045 members'], ['185', 'Ao Haru Ride', '7.63', 'TV (12 eps)', 'Jul 2014 - Sep 2014', '975,087 members'], ['186', 'Gekkan Shoujo Nozaki-kun', '7.82', 'TV (12 eps)', 'Jul 2014 - Sep 2014', '973,723 members'], ['187', 'Overlord III', '7.91', 'TV (13 eps)', 'Jul 2018 - Oct 2018', '969,218 members'], ['188', 'Yakusoku no Neverland 2nd Season', '5.26', 'TV (11 eps)', 'Jan 2021 - Mar 2021', '967,642 members'], ['189', 'The God of High School', '7.07', 'TV (13 eps)', 'Jul 2020 - Sep 2020', '964,382 members'], ['190', 'Komi-san wa, Comyushou desu.', '7.82', 'TV (12 eps)', 'Oct 2021 - Dec 2021', '957,855 members'], ['191', 'Ore dake Level Up na Ken', '8.27', 'TV (12 eps)', 'Jan 2024 - Mar 2024', '954,574 members'], ['192', 'Suzumiya Haruhi no Yuuutsu', '7.82', 'TV (14 eps)', 'Apr 2006 - Jul 2006', '951,954 members'], ['193', 'Black Bullet', '7.07', 'TV (13 eps)', 'Apr 2014 - Jul 2014', '949,708 members'], ['194', '[Oshi no Ko]', '8.58', 'TV (11 eps)', 'Apr 2023 - Jun 2023', '947,492 members'], ['195', 'High School DxD New', '7.46', 'TV (12 eps)', 'Jul 2013 - Sep 2013', '945,837 members'], ['196', 'Nichijou', '8.47', 'TV (26 eps)', 'Apr 2011 - Sep 2011', '944,523 members'], ['197', 'Tokyo Ghoul:re 2nd Season', '6.46', 'TV (12 eps)', 'Oct 2018 - Dec 2018', '940,314 members'], ['198', 'Fumetsu no Anata e', '8.34', 'TV (20 eps)', 'Apr 2021 - Aug 2021', '935,880 members'], ['199', 'Baccano!', '8.35', 'TV (13 eps)', 'Jul 2007 - Nov 2007', '935,675 members'], ['200', 'Masamune-kun no Revenge', '6.75', 'TV (12 eps)', 'Jan 2017 - Mar 2017', '934,536 members'], ['201', 'Yuri!!! on Ice', '7.90', 'TV (12 eps)', 'Oct 2016 - Dec 2016', '923,165 members'], ['202', 'No Game No Life: Zero', '8.17', 'Movie (1 eps)', 'Jul 2017 - Jul 2017', '920,308 members'], ['203', 'Beastars', '7.80', 'TV (12 eps)', 'Oct 2019 - Dec 2019', '919,544 members'], ['204', 'Banana Fish', '8.46', 'TV (24 eps)', 'Jul 2018 - Dec 2018', '918,677 members'], ['205', 'Bungou Stray Dogs 2nd Season', '8.17', 'TV (12 eps)', 'Oct 2016 - Dec 2016', '918,025 members'], ['206', 'Steins;Gate 0', '8.54', 'TV (23 eps)', 'Apr 2018 - Sep 2018', '917,062 members'], ['207', 'Kekkai Sensen', '7.59', 'TV (12 eps)', 'Apr 2015 - Oct 2015', '916,303 members'], ['208', 'Akira', '8.16', 'Movie (1 eps)', 'Jul 1988 - Jul 1988', '912,875 members'], ['209', 'Cyberpunk: Edgerunners', '8.61', 'ONA (10 eps)', 'Sep 2022 - Sep 2022', '907,329 members'], ['210', 'Boruto: Naruto Next Generations', '5.99', 'TV (293 eps)', 'Apr 2017 - Mar 2023', '902,524 members'], ['211', 'Kotonoha no Niwa', '7.86', 'Movie (1 eps)', 'May 2013 - May 2013', '902,411 members'], ['212', 'Akatsuki no Yona', '8.03', 'TV (24 eps)', 'Oct 2014 - Mar 2015', '899,601 members'], ['213', 'Fruits Basket 1st Season', '8.21', 'TV (25 eps)', 'Apr 2019 - Sep 2019', '896,502 members'], ['214', 'Kuroko no Basket 2nd Season', '8.20', 'TV (25 eps)', 'Oct 2013 - Mar 2014', '894,901 members'], ['215', 'Fate/stay night: Unlimited Blade Works 2nd Season', '8.32', 'TV (13 eps)', 'Apr 2015 - Jun 2015', '889,742 members'], ['216', 'Btooom!', '7.27', 'TV (12 eps)', 'Oct 2012 - Dec 2012', '886,370 members'], ['217', '86', '8.33', 'TV (11 eps)', 'Apr 2021 - Jun 2021', '882,469 members'], ['218', 'Haikyuu!! To the Top Part 2', '8.55', 'TV (12 eps)', 'Oct 2020 - Dec 2020', '879,697 members'], ['219', 'Trinity Seven', '7.03', 'TV (12 eps)', 'Oct 2014 - Dec 2014', '877,566 members'], ['220', 'Dragon Ball Super', '7.46', 'TV (131 eps)', 'Jul 2015 - Mar 2018', '877,169 members'], ['221', 'Great Teacher Onizuka', '8.68', 'TV (43 eps)', 'Jun 1999 - Sep 2000', '876,718 members'], ['222', 'Kimetsu no Yaiba: Mugen Ressha-hen', '8.35', 'TV (7 eps)', 'Oct 2021 - Nov 2021', '875,359 members'], ['223', 'Magi: The Kingdom of Magic', '8.20', 'TV (25 eps)', 'Oct 2013 - Mar 2014', '874,221 members'], ['224', 'Dungeon ni Deai wo Motomeru no wa Machigatteiru Darou ka II', '7.24', 'TV (12 eps)', 'Jul 2019 - Sep 2019', '872,909 members'], ['225', 'Mushishi', '8.65', 'TV (26 eps)', 'Oct 2005 - Jun 2006', '871,503 members'], ['226', 'Orange', '7.63', 'TV (13 eps)', 'Jul 2016 - Sep 2016', '867,156 members'], ['227', 'Kokoro Connect', '7.73', 'TV (13 eps)', 'Jul 2012 - Sep 2012', '865,026 members'], ['228', 'FLCL', '8.04', 'OVA (6 eps)', 'Apr 2000 - Mar 2001', '863,493 members'], ['229', 'Maou Gakuin no Futekigousha: Shijou Saikyou no Maou no Shiso, Tensei shite Shison-tachi no Gakkou e Kayou', '7.33', 'TV (13 eps)', 'Jul 2020 - Sep 2020', '863,056 members'], ['230', 'Danshi Koukousei no Nichijou', '8.23', 'TV (12 eps)', 'Jan 2012 - Mar 2012', '858,995 members'], ['231', 'Enen no Shouboutai: Ni no Shou', '7.82', 'TV (24 eps)', 'Jul 2020 - Dec 2020', '855,158 members'], ['232', 'Koutetsujou no Kabaneri', '7.28', 'TV (12 eps)', 'Apr 2016 - Jul 2016', '854,836 members'], ['233', 'Hotarubi no Mori e', '8.27', 'Movie (1 eps)', 'Sep 2011 - Sep 2011', '854,026 members'], ['234', 'Gate: Jieitai Kanochi nite, Kaku Tatakaeri', '7.68', 'TV (12 eps)', 'Jul 2015 - Sep 2015', '850,709 members'], ['235', 'Tensei shitara Slime Datta Ken 2nd Season Part 2', '8.31', 'TV (12 eps)', 'Jul 2021 - Sep 2021', '850,164 members'], ['236', 'Ijiranaide, Nagatoro-san', '7.21', 'TV (12 eps)', 'Apr 2021 - Jun 2021', '849,856 members'], ['237', 'Ookami to Koushinryou', '8.21', 'TV (13 eps)', 'Jan 2008 - Mar 2008', '849,763 members'], ['238', 'Shimoneta to Iu Gainen ga Sonzai Shinai Taikutsu na Sekai', '7.21', 'TV (12 eps)', 'Jul 2015 - Sep 2015', '848,170 members'], ['239', 'Zero no Tsukaima', '7.21', 'TV (13 eps)', 'Jul 2006 - Sep 2006', '847,717 members'], ['240', 'Toaru Majutsu no Index', '7.34', 'TV (24 eps)', 'Oct 2008 - Mar 2009', '846,059 members'], ['241', 'Ookami Kodomo no Ame to Yuki', '8.56', 'Movie (1 eps)', 'Jul 2012 - Jul 2012', '843,286 members'], ['242', 'Kono Subarashii Sekai ni Shukufuku wo! Movie: Kurenai Densetsu', '8.41', 'Movie (1 eps)', 'Aug 2019 - Aug 2019', '842,782 members'], ['243', 'Serial Experiments Lain', '8.09', 'TV (13 eps)', 'Jul 1998 - Sep 1998', '842,704 members'], ['244', 'Grand Blue', '8.44', 'TV (12 eps)', 'Jul 2018 - Sep 2018', '836,077 members'], ['245', 'Boku wa Tomodachi ga Sukunai', '7.14', 'TV (12 eps)', 'Oct 2011 - Dec 2011', '835,379 members'], ['246', 'Higurashi no Naku Koro ni', '7.87', 'TV (26 eps)', 'Apr 2006 - Sep 2006', '834,183 members'], ['247', 'InuYasha', '7.87', 'TV (167 eps)', 'Oct 2000 - Sep 2004', '832,555 members'], ['248', 'High School DxD BorN', '7.41', 'TV (12 eps)', 'Apr 2015 - Jun 2015', '829,886 members'], ['249', 'Owari no Seraph: Nagoya Kessen-hen', '7.61', 'TV (12 eps)', 'Oct 2015 - Dec 2015', '827,338 members'], ['250', 'Yamada-kun to 7-nin no Majo', '7.53', 'TV (12 eps)', 'Apr 2015 - Jun 2015', '826,533 members']]\n"
     ]
    }
   ],
   "source": [
    "print(data)"
   ]
  },
  {
   "cell_type": "markdown",
   "id": "85b9ccab-b878-4152-bc9b-c34598f02f28",
   "metadata": {},
   "source": [
    "# Change into DataFrame"
   ]
  },
  {
   "cell_type": "code",
   "execution_count": 4,
   "id": "ec059bfb-d5b2-483f-83b6-10a5261f51d8",
   "metadata": {
    "scrolled": true
   },
   "outputs": [
    {
     "data": {
      "text/html": [
       "<div>\n",
       "<style scoped>\n",
       "    .dataframe tbody tr th:only-of-type {\n",
       "        vertical-align: middle;\n",
       "    }\n",
       "\n",
       "    .dataframe tbody tr th {\n",
       "        vertical-align: top;\n",
       "    }\n",
       "\n",
       "    .dataframe thead th {\n",
       "        text-align: right;\n",
       "    }\n",
       "</style>\n",
       "<table border=\"1\" class=\"dataframe\">\n",
       "  <thead>\n",
       "    <tr style=\"text-align: right;\">\n",
       "      <th></th>\n",
       "      <th>Rank</th>\n",
       "      <th>Title</th>\n",
       "      <th>Score</th>\n",
       "      <th>episodes</th>\n",
       "      <th>date_aired</th>\n",
       "      <th>members</th>\n",
       "    </tr>\n",
       "  </thead>\n",
       "  <tbody>\n",
       "    <tr>\n",
       "      <th>0</th>\n",
       "      <td>1</td>\n",
       "      <td>Shingeki no Kyojin</td>\n",
       "      <td>8.56</td>\n",
       "      <td>TV (25 eps)</td>\n",
       "      <td>Apr 2013 - Sep 2013</td>\n",
       "      <td>4,158,024 members</td>\n",
       "    </tr>\n",
       "    <tr>\n",
       "      <th>1</th>\n",
       "      <td>2</td>\n",
       "      <td>Death Note</td>\n",
       "      <td>8.62</td>\n",
       "      <td>TV (37 eps)</td>\n",
       "      <td>Oct 2006 - Jun 2007</td>\n",
       "      <td>4,102,384 members</td>\n",
       "    </tr>\n",
       "    <tr>\n",
       "      <th>2</th>\n",
       "      <td>3</td>\n",
       "      <td>Fullmetal Alchemist: Brotherhood</td>\n",
       "      <td>9.10</td>\n",
       "      <td>TV (64 eps)</td>\n",
       "      <td>Apr 2009 - Jul 2010</td>\n",
       "      <td>3,519,653 members</td>\n",
       "    </tr>\n",
       "    <tr>\n",
       "      <th>3</th>\n",
       "      <td>4</td>\n",
       "      <td>One Punch Man</td>\n",
       "      <td>8.49</td>\n",
       "      <td>TV (12 eps)</td>\n",
       "      <td>Oct 2015 - Dec 2015</td>\n",
       "      <td>3,380,575 members</td>\n",
       "    </tr>\n",
       "    <tr>\n",
       "      <th>4</th>\n",
       "      <td>5</td>\n",
       "      <td>Kimetsu no Yaiba</td>\n",
       "      <td>8.43</td>\n",
       "      <td>TV (26 eps)</td>\n",
       "      <td>Apr 2019 - Sep 2019</td>\n",
       "      <td>3,248,495 members</td>\n",
       "    </tr>\n",
       "    <tr>\n",
       "      <th>...</th>\n",
       "      <td>...</td>\n",
       "      <td>...</td>\n",
       "      <td>...</td>\n",
       "      <td>...</td>\n",
       "      <td>...</td>\n",
       "      <td>...</td>\n",
       "    </tr>\n",
       "    <tr>\n",
       "      <th>245</th>\n",
       "      <td>246</td>\n",
       "      <td>Higurashi no Naku Koro ni</td>\n",
       "      <td>7.87</td>\n",
       "      <td>TV (26 eps)</td>\n",
       "      <td>Apr 2006 - Sep 2006</td>\n",
       "      <td>834,183 members</td>\n",
       "    </tr>\n",
       "    <tr>\n",
       "      <th>246</th>\n",
       "      <td>247</td>\n",
       "      <td>InuYasha</td>\n",
       "      <td>7.87</td>\n",
       "      <td>TV (167 eps)</td>\n",
       "      <td>Oct 2000 - Sep 2004</td>\n",
       "      <td>832,555 members</td>\n",
       "    </tr>\n",
       "    <tr>\n",
       "      <th>247</th>\n",
       "      <td>248</td>\n",
       "      <td>High School DxD BorN</td>\n",
       "      <td>7.41</td>\n",
       "      <td>TV (12 eps)</td>\n",
       "      <td>Apr 2015 - Jun 2015</td>\n",
       "      <td>829,886 members</td>\n",
       "    </tr>\n",
       "    <tr>\n",
       "      <th>248</th>\n",
       "      <td>249</td>\n",
       "      <td>Owari no Seraph: Nagoya Kessen-hen</td>\n",
       "      <td>7.61</td>\n",
       "      <td>TV (12 eps)</td>\n",
       "      <td>Oct 2015 - Dec 2015</td>\n",
       "      <td>827,338 members</td>\n",
       "    </tr>\n",
       "    <tr>\n",
       "      <th>249</th>\n",
       "      <td>250</td>\n",
       "      <td>Yamada-kun to 7-nin no Majo</td>\n",
       "      <td>7.53</td>\n",
       "      <td>TV (12 eps)</td>\n",
       "      <td>Apr 2015 - Jun 2015</td>\n",
       "      <td>826,533 members</td>\n",
       "    </tr>\n",
       "  </tbody>\n",
       "</table>\n",
       "<p>250 rows × 6 columns</p>\n",
       "</div>"
      ],
      "text/plain": [
       "    Rank                               Title Score      episodes  \\\n",
       "0      1                  Shingeki no Kyojin  8.56   TV (25 eps)   \n",
       "1      2                          Death Note  8.62   TV (37 eps)   \n",
       "2      3    Fullmetal Alchemist: Brotherhood  9.10   TV (64 eps)   \n",
       "3      4                       One Punch Man  8.49   TV (12 eps)   \n",
       "4      5                    Kimetsu no Yaiba  8.43   TV (26 eps)   \n",
       "..   ...                                 ...   ...           ...   \n",
       "245  246           Higurashi no Naku Koro ni  7.87   TV (26 eps)   \n",
       "246  247                            InuYasha  7.87  TV (167 eps)   \n",
       "247  248                High School DxD BorN  7.41   TV (12 eps)   \n",
       "248  249  Owari no Seraph: Nagoya Kessen-hen  7.61   TV (12 eps)   \n",
       "249  250         Yamada-kun to 7-nin no Majo  7.53   TV (12 eps)   \n",
       "\n",
       "              date_aired            members  \n",
       "0    Apr 2013 - Sep 2013  4,158,024 members  \n",
       "1    Oct 2006 - Jun 2007  4,102,384 members  \n",
       "2    Apr 2009 - Jul 2010  3,519,653 members  \n",
       "3    Oct 2015 - Dec 2015  3,380,575 members  \n",
       "4    Apr 2019 - Sep 2019  3,248,495 members  \n",
       "..                   ...                ...  \n",
       "245  Apr 2006 - Sep 2006    834,183 members  \n",
       "246  Oct 2000 - Sep 2004    832,555 members  \n",
       "247  Apr 2015 - Jun 2015    829,886 members  \n",
       "248  Oct 2015 - Dec 2015    827,338 members  \n",
       "249  Apr 2015 - Jun 2015    826,533 members  \n",
       "\n",
       "[250 rows x 6 columns]"
      ]
     },
     "execution_count": 4,
     "metadata": {},
     "output_type": "execute_result"
    }
   ],
   "source": [
    "df = pd.DataFrame(data, columns=header)\n",
    "df"
   ]
  },
  {
   "cell_type": "markdown",
   "id": "5ce0e999-cf09-4bad-960d-ebf40d5f134f",
   "metadata": {},
   "source": [
    "# Data Cleaning"
   ]
  },
  {
   "cell_type": "markdown",
   "id": "ead69f1f-304c-4f18-989d-049f1b10eb8e",
   "metadata": {},
   "source": [
    "Changing Episodes into 2 columns, which is Episodes and Release_Type"
   ]
  },
  {
   "cell_type": "code",
   "execution_count": 5,
   "id": "f6511f0a-4245-4772-8ac3-7b1ed20f4c2a",
   "metadata": {},
   "outputs": [
    {
     "name": "stdout",
     "output_type": "stream",
     "text": [
      "<class 'pandas.core.frame.DataFrame'>\n",
      "RangeIndex: 250 entries, 0 to 249\n",
      "Data columns (total 6 columns):\n",
      " #   Column      Non-Null Count  Dtype \n",
      "---  ------      --------------  ----- \n",
      " 0   Rank        250 non-null    object\n",
      " 1   Title       250 non-null    object\n",
      " 2   Score       250 non-null    object\n",
      " 3   episodes    250 non-null    object\n",
      " 4   date_aired  250 non-null    object\n",
      " 5   members     250 non-null    object\n",
      "dtypes: object(6)\n",
      "memory usage: 11.8+ KB\n"
     ]
    }
   ],
   "source": [
    "df.info()"
   ]
  },
  {
   "cell_type": "markdown",
   "id": "190541f3-7cf3-460e-b837-ae43a93257fc",
   "metadata": {},
   "source": [
    "Change Score type into float"
   ]
  },
  {
   "cell_type": "code",
   "execution_count": 6,
   "id": "9d748679-ca62-4693-aa25-7f6b83bdd165",
   "metadata": {},
   "outputs": [
    {
     "data": {
      "text/plain": [
       "Rank          0\n",
       "Title         0\n",
       "Score         0\n",
       "episodes      0\n",
       "date_aired    0\n",
       "members       0\n",
       "dtype: int64"
      ]
     },
     "execution_count": 6,
     "metadata": {},
     "output_type": "execute_result"
    }
   ],
   "source": [
    "df.isnull().sum()"
   ]
  },
  {
   "cell_type": "code",
   "execution_count": 7,
   "id": "14277926-2f2a-4768-96a5-3918bffd8def",
   "metadata": {},
   "outputs": [],
   "source": [
    "df['Score'] = df['Score'].astype(float)"
   ]
  },
  {
   "cell_type": "code",
   "execution_count": 8,
   "id": "bfdbd894-e315-4997-9a92-ee136a3aa2dc",
   "metadata": {},
   "outputs": [],
   "source": [
    "df[['release_type', 'episodes']] = df['episodes'].str.extract(r'^(.*?)\\s*\\(([^)]+)\\s+eps\\)')"
   ]
  },
  {
   "cell_type": "markdown",
   "id": "cd515321-7458-454a-beb9-914d2fca9a5b",
   "metadata": {},
   "source": [
    "Regex Breakdown: `r'^(.*?)\\s*\\(([^)]+)\\s+eps\\)'`\n",
    "\n",
    "```regex\n",
    "^         # Start of the string\n",
    "(.*?)     # 1st Capture Group: Lazily matches any characters (release type like \"TV\" or \"Movie\")\n",
    "\\s*       # Matches optional whitespace (space/tab) after the release type\n",
    "\\(        # Escaped parenthesis: Matches literal '(' character\n",
    "([^)]+)   # 2nd Capture Group: Matches 1+ characters that are NOT ')'\n",
    "\\s+eps    # Matches whitespace followed by \"eps\"\n",
    "\\)        # Escaped parenthesis: Matches literal ')' character"
   ]
  },
  {
   "cell_type": "code",
   "execution_count": 9,
   "id": "4cca9e29-05b5-4c34-9275-19a05555e8af",
   "metadata": {
    "scrolled": true
   },
   "outputs": [
    {
     "data": {
      "text/plain": [
       "array(['25', '37', '64', '12', '26', '13', '148', '220', '1', '24', '500',\n",
       "       '?', '10', '22', '16', '366', '175', '170', '51', '27', '11', '23',\n",
       "       '15', '291', '74', '20', '39', '120', '201', '28', '153', '102',\n",
       "       '3', '14', '293', '131', '43', '7', '6', '167'], dtype=object)"
      ]
     },
     "execution_count": 9,
     "metadata": {},
     "output_type": "execute_result"
    }
   ],
   "source": [
    "df['episodes'].unique()"
   ]
  },
  {
   "cell_type": "markdown",
   "id": "54e5472f-018a-45f1-824b-b7898b400485",
   "metadata": {},
   "source": [
    "Find episodes that has the value '?'"
   ]
  },
  {
   "cell_type": "code",
   "execution_count": 10,
   "id": "01244cec-aeed-4a2e-bc09-4f7d452a095c",
   "metadata": {},
   "outputs": [],
   "source": [
    "find_error = con.execute(\"SELECT * FROM df WHERE Episodes = '?'\").fetchdf()"
   ]
  },
  {
   "cell_type": "code",
   "execution_count": 11,
   "id": "df48af77-9131-4e23-96bb-7ea28ebed9cc",
   "metadata": {
    "scrolled": true
   },
   "outputs": [
    {
     "data": {
      "text/html": [
       "<div>\n",
       "<style scoped>\n",
       "    .dataframe tbody tr th:only-of-type {\n",
       "        vertical-align: middle;\n",
       "    }\n",
       "\n",
       "    .dataframe tbody tr th {\n",
       "        vertical-align: top;\n",
       "    }\n",
       "\n",
       "    .dataframe thead th {\n",
       "        text-align: right;\n",
       "    }\n",
       "</style>\n",
       "<table border=\"1\" class=\"dataframe\">\n",
       "  <thead>\n",
       "    <tr style=\"text-align: right;\">\n",
       "      <th></th>\n",
       "      <th>Rank</th>\n",
       "      <th>Title</th>\n",
       "      <th>Score</th>\n",
       "      <th>episodes</th>\n",
       "      <th>date_aired</th>\n",
       "      <th>members</th>\n",
       "      <th>release_type</th>\n",
       "    </tr>\n",
       "  </thead>\n",
       "  <tbody>\n",
       "    <tr>\n",
       "      <th>0</th>\n",
       "      <td>17</td>\n",
       "      <td>One Piece</td>\n",
       "      <td>8.73</td>\n",
       "      <td>?</td>\n",
       "      <td>Oct 1999 -</td>\n",
       "      <td>2,527,977 members</td>\n",
       "      <td>TV</td>\n",
       "    </tr>\n",
       "  </tbody>\n",
       "</table>\n",
       "</div>"
      ],
      "text/plain": [
       "  Rank      Title  Score episodes  date_aired            members release_type\n",
       "0   17  One Piece   8.73        ?  Oct 1999 -  2,527,977 members           TV"
      ]
     },
     "execution_count": 11,
     "metadata": {},
     "output_type": "execute_result"
    }
   ],
   "source": [
    "find_error"
   ]
  },
  {
   "cell_type": "markdown",
   "id": "2b6794d6-abd4-4a6c-8555-8959586fa6b3",
   "metadata": {},
   "source": [
    "Because One Piece is still on going, I'm changing it into 9999, also because to change into integer type"
   ]
  },
  {
   "cell_type": "code",
   "execution_count": 12,
   "id": "f1add98b-e344-4155-8267-39dbfb8597ff",
   "metadata": {},
   "outputs": [],
   "source": [
    "df['episodes'] = df['episodes'].str.replace('?', '9999')"
   ]
  },
  {
   "cell_type": "code",
   "execution_count": 13,
   "id": "d523b448-233c-4d71-bf7b-a377fd43fba9",
   "metadata": {},
   "outputs": [],
   "source": [
    "df['episodes'] = pd.to_numeric(df['episodes'], errors='coerce')"
   ]
  },
  {
   "cell_type": "markdown",
   "id": "16b6bd26-964a-403d-8769-e9a100f09fc7",
   "metadata": {},
   "source": [
    "Changing date_aired into 2 dates which is the date_aired and date_ended"
   ]
  },
  {
   "cell_type": "code",
   "execution_count": 14,
   "id": "cbfeadf4-927a-492b-8c20-c2889c548b0e",
   "metadata": {},
   "outputs": [],
   "source": [
    "df[['date_aired', 'date_ended']] = df['date_aired'].str.split(' - ', expand=True).apply(lambda x: x.str.strip())"
   ]
  },
  {
   "cell_type": "code",
   "execution_count": 15,
   "id": "917dcdd9-785f-4242-96e1-09a9b626de4a",
   "metadata": {},
   "outputs": [
    {
     "data": {
      "text/html": [
       "<div>\n",
       "<style scoped>\n",
       "    .dataframe tbody tr th:only-of-type {\n",
       "        vertical-align: middle;\n",
       "    }\n",
       "\n",
       "    .dataframe tbody tr th {\n",
       "        vertical-align: top;\n",
       "    }\n",
       "\n",
       "    .dataframe thead th {\n",
       "        text-align: right;\n",
       "    }\n",
       "</style>\n",
       "<table border=\"1\" class=\"dataframe\">\n",
       "  <thead>\n",
       "    <tr style=\"text-align: right;\">\n",
       "      <th></th>\n",
       "      <th>Rank</th>\n",
       "      <th>Title</th>\n",
       "      <th>Score</th>\n",
       "      <th>episodes</th>\n",
       "      <th>date_aired</th>\n",
       "      <th>members</th>\n",
       "      <th>release_type</th>\n",
       "      <th>date_ended</th>\n",
       "    </tr>\n",
       "  </thead>\n",
       "  <tbody>\n",
       "    <tr>\n",
       "      <th>0</th>\n",
       "      <td>1</td>\n",
       "      <td>Shingeki no Kyojin</td>\n",
       "      <td>8.56</td>\n",
       "      <td>25</td>\n",
       "      <td>Apr 2013</td>\n",
       "      <td>4,158,024 members</td>\n",
       "      <td>TV</td>\n",
       "      <td>Sep 2013</td>\n",
       "    </tr>\n",
       "    <tr>\n",
       "      <th>1</th>\n",
       "      <td>2</td>\n",
       "      <td>Death Note</td>\n",
       "      <td>8.62</td>\n",
       "      <td>37</td>\n",
       "      <td>Oct 2006</td>\n",
       "      <td>4,102,384 members</td>\n",
       "      <td>TV</td>\n",
       "      <td>Jun 2007</td>\n",
       "    </tr>\n",
       "    <tr>\n",
       "      <th>2</th>\n",
       "      <td>3</td>\n",
       "      <td>Fullmetal Alchemist: Brotherhood</td>\n",
       "      <td>9.10</td>\n",
       "      <td>64</td>\n",
       "      <td>Apr 2009</td>\n",
       "      <td>3,519,653 members</td>\n",
       "      <td>TV</td>\n",
       "      <td>Jul 2010</td>\n",
       "    </tr>\n",
       "    <tr>\n",
       "      <th>3</th>\n",
       "      <td>4</td>\n",
       "      <td>One Punch Man</td>\n",
       "      <td>8.49</td>\n",
       "      <td>12</td>\n",
       "      <td>Oct 2015</td>\n",
       "      <td>3,380,575 members</td>\n",
       "      <td>TV</td>\n",
       "      <td>Dec 2015</td>\n",
       "    </tr>\n",
       "    <tr>\n",
       "      <th>4</th>\n",
       "      <td>5</td>\n",
       "      <td>Kimetsu no Yaiba</td>\n",
       "      <td>8.43</td>\n",
       "      <td>26</td>\n",
       "      <td>Apr 2019</td>\n",
       "      <td>3,248,495 members</td>\n",
       "      <td>TV</td>\n",
       "      <td>Sep 2019</td>\n",
       "    </tr>\n",
       "  </tbody>\n",
       "</table>\n",
       "</div>"
      ],
      "text/plain": [
       "  Rank                             Title  Score  episodes date_aired  \\\n",
       "0    1                Shingeki no Kyojin   8.56        25   Apr 2013   \n",
       "1    2                        Death Note   8.62        37   Oct 2006   \n",
       "2    3  Fullmetal Alchemist: Brotherhood   9.10        64   Apr 2009   \n",
       "3    4                     One Punch Man   8.49        12   Oct 2015   \n",
       "4    5                  Kimetsu no Yaiba   8.43        26   Apr 2019   \n",
       "\n",
       "             members release_type date_ended  \n",
       "0  4,158,024 members           TV   Sep 2013  \n",
       "1  4,102,384 members           TV   Jun 2007  \n",
       "2  3,519,653 members           TV   Jul 2010  \n",
       "3  3,380,575 members           TV   Dec 2015  \n",
       "4  3,248,495 members           TV   Sep 2019  "
      ]
     },
     "execution_count": 15,
     "metadata": {},
     "output_type": "execute_result"
    }
   ],
   "source": [
    "df.head()"
   ]
  },
  {
   "cell_type": "markdown",
   "id": "6b2ca762-53d8-405e-b178-6462662f80ab",
   "metadata": {},
   "source": [
    "Changing both date_aired and date_ended into month and year in their respective parts"
   ]
  },
  {
   "cell_type": "code",
   "execution_count": 16,
   "id": "0d4331f3-484d-4067-a02c-5f57d053cb04",
   "metadata": {},
   "outputs": [],
   "source": [
    "df[['month_aired', 'year_aired']] = df['date_aired'].str.strip().str.split(n=1, expand=True)"
   ]
  },
  {
   "cell_type": "code",
   "execution_count": 17,
   "id": "d1002b32-3f44-45c4-b70e-032cd56f6d76",
   "metadata": {},
   "outputs": [],
   "source": [
    "df[['month_ended', 'year_ended']] = df['date_ended'].str.strip().str.split(n=1, expand=True)"
   ]
  },
  {
   "cell_type": "code",
   "execution_count": 18,
   "id": "417b5daf-02d2-45fc-bdea-28b40545f1d0",
   "metadata": {},
   "outputs": [
    {
     "data": {
      "text/plain": [
       "Rank            0\n",
       "Title           0\n",
       "Score           0\n",
       "episodes        0\n",
       "date_aired      0\n",
       "members         0\n",
       "release_type    0\n",
       "date_ended      1\n",
       "month_aired     0\n",
       "year_aired      0\n",
       "month_ended     1\n",
       "year_ended      1\n",
       "dtype: int64"
      ]
     },
     "execution_count": 18,
     "metadata": {},
     "output_type": "execute_result"
    }
   ],
   "source": [
    "df.isnull().sum()"
   ]
  },
  {
   "cell_type": "code",
   "execution_count": 19,
   "id": "eb19929e-8c24-427e-b96e-8e2dae5954d2",
   "metadata": {
    "scrolled": true
   },
   "outputs": [
    {
     "data": {
      "text/html": [
       "<div>\n",
       "<style scoped>\n",
       "    .dataframe tbody tr th:only-of-type {\n",
       "        vertical-align: middle;\n",
       "    }\n",
       "\n",
       "    .dataframe tbody tr th {\n",
       "        vertical-align: top;\n",
       "    }\n",
       "\n",
       "    .dataframe thead th {\n",
       "        text-align: right;\n",
       "    }\n",
       "</style>\n",
       "<table border=\"1\" class=\"dataframe\">\n",
       "  <thead>\n",
       "    <tr style=\"text-align: right;\">\n",
       "      <th></th>\n",
       "      <th>Rank</th>\n",
       "      <th>Title</th>\n",
       "      <th>Score</th>\n",
       "      <th>episodes</th>\n",
       "      <th>date_aired</th>\n",
       "      <th>members</th>\n",
       "      <th>release_type</th>\n",
       "      <th>date_ended</th>\n",
       "      <th>month_aired</th>\n",
       "      <th>year_aired</th>\n",
       "      <th>month_ended</th>\n",
       "      <th>year_ended</th>\n",
       "    </tr>\n",
       "  </thead>\n",
       "  <tbody>\n",
       "    <tr>\n",
       "      <th>0</th>\n",
       "      <td>1</td>\n",
       "      <td>Shingeki no Kyojin</td>\n",
       "      <td>8.56</td>\n",
       "      <td>25</td>\n",
       "      <td>Apr 2013</td>\n",
       "      <td>4,158,024 members</td>\n",
       "      <td>TV</td>\n",
       "      <td>Sep 2013</td>\n",
       "      <td>Apr</td>\n",
       "      <td>2013</td>\n",
       "      <td>Sep</td>\n",
       "      <td>2013</td>\n",
       "    </tr>\n",
       "    <tr>\n",
       "      <th>1</th>\n",
       "      <td>2</td>\n",
       "      <td>Death Note</td>\n",
       "      <td>8.62</td>\n",
       "      <td>37</td>\n",
       "      <td>Oct 2006</td>\n",
       "      <td>4,102,384 members</td>\n",
       "      <td>TV</td>\n",
       "      <td>Jun 2007</td>\n",
       "      <td>Oct</td>\n",
       "      <td>2006</td>\n",
       "      <td>Jun</td>\n",
       "      <td>2007</td>\n",
       "    </tr>\n",
       "    <tr>\n",
       "      <th>2</th>\n",
       "      <td>3</td>\n",
       "      <td>Fullmetal Alchemist: Brotherhood</td>\n",
       "      <td>9.10</td>\n",
       "      <td>64</td>\n",
       "      <td>Apr 2009</td>\n",
       "      <td>3,519,653 members</td>\n",
       "      <td>TV</td>\n",
       "      <td>Jul 2010</td>\n",
       "      <td>Apr</td>\n",
       "      <td>2009</td>\n",
       "      <td>Jul</td>\n",
       "      <td>2010</td>\n",
       "    </tr>\n",
       "    <tr>\n",
       "      <th>3</th>\n",
       "      <td>4</td>\n",
       "      <td>One Punch Man</td>\n",
       "      <td>8.49</td>\n",
       "      <td>12</td>\n",
       "      <td>Oct 2015</td>\n",
       "      <td>3,380,575 members</td>\n",
       "      <td>TV</td>\n",
       "      <td>Dec 2015</td>\n",
       "      <td>Oct</td>\n",
       "      <td>2015</td>\n",
       "      <td>Dec</td>\n",
       "      <td>2015</td>\n",
       "    </tr>\n",
       "    <tr>\n",
       "      <th>4</th>\n",
       "      <td>5</td>\n",
       "      <td>Kimetsu no Yaiba</td>\n",
       "      <td>8.43</td>\n",
       "      <td>26</td>\n",
       "      <td>Apr 2019</td>\n",
       "      <td>3,248,495 members</td>\n",
       "      <td>TV</td>\n",
       "      <td>Sep 2019</td>\n",
       "      <td>Apr</td>\n",
       "      <td>2019</td>\n",
       "      <td>Sep</td>\n",
       "      <td>2019</td>\n",
       "    </tr>\n",
       "  </tbody>\n",
       "</table>\n",
       "</div>"
      ],
      "text/plain": [
       "  Rank                             Title  Score  episodes date_aired  \\\n",
       "0    1                Shingeki no Kyojin   8.56        25   Apr 2013   \n",
       "1    2                        Death Note   8.62        37   Oct 2006   \n",
       "2    3  Fullmetal Alchemist: Brotherhood   9.10        64   Apr 2009   \n",
       "3    4                     One Punch Man   8.49        12   Oct 2015   \n",
       "4    5                  Kimetsu no Yaiba   8.43        26   Apr 2019   \n",
       "\n",
       "             members release_type date_ended month_aired year_aired  \\\n",
       "0  4,158,024 members           TV   Sep 2013         Apr       2013   \n",
       "1  4,102,384 members           TV   Jun 2007         Oct       2006   \n",
       "2  3,519,653 members           TV   Jul 2010         Apr       2009   \n",
       "3  3,380,575 members           TV   Dec 2015         Oct       2015   \n",
       "4  3,248,495 members           TV   Sep 2019         Apr       2019   \n",
       "\n",
       "  month_ended year_ended  \n",
       "0         Sep       2013  \n",
       "1         Jun       2007  \n",
       "2         Jul       2010  \n",
       "3         Dec       2015  \n",
       "4         Sep       2019  "
      ]
     },
     "execution_count": 19,
     "metadata": {},
     "output_type": "execute_result"
    }
   ],
   "source": [
    "df.head()"
   ]
  },
  {
   "cell_type": "markdown",
   "id": "0710c579-9584-45af-918e-032a2ab17c16",
   "metadata": {},
   "source": [
    "For the One Piece, we need to remove '-' from the date_aired nad year_aired so that they can be split into 2 columns without any Errors"
   ]
  },
  {
   "cell_type": "code",
   "execution_count": 20,
   "id": "abe61423-68fa-4fd4-a851-a52e2da3c74e",
   "metadata": {},
   "outputs": [
    {
     "data": {
      "text/plain": [
       "Rank                           17\n",
       "Title                   One Piece\n",
       "Score                        8.73\n",
       "episodes                     9999\n",
       "date_aired             Oct 1999 -\n",
       "members         2,527,977 members\n",
       "release_type                   TV\n",
       "date_ended                   None\n",
       "month_aired                   Oct\n",
       "year_aired                 1999 -\n",
       "month_ended                  None\n",
       "year_ended                   None\n",
       "Name: 16, dtype: object"
      ]
     },
     "execution_count": 20,
     "metadata": {},
     "output_type": "execute_result"
    }
   ],
   "source": [
    "df.iloc[16]"
   ]
  },
  {
   "cell_type": "code",
   "execution_count": 21,
   "id": "21db9d24-0b9d-4bd4-83b8-4c5f6c3ad2e7",
   "metadata": {},
   "outputs": [],
   "source": [
    "df['date_aired'] = df['date_aired'].str.replace('-', '', regex=False).str.strip()"
   ]
  },
  {
   "cell_type": "code",
   "execution_count": 22,
   "id": "3bbc8174-cadf-465d-ae8c-3933875acd28",
   "metadata": {},
   "outputs": [],
   "source": [
    "df['year_aired'] = df['year_aired'].str.replace('-', '', regex=False).str.strip()"
   ]
  },
  {
   "cell_type": "code",
   "execution_count": 23,
   "id": "fdffb540-20e8-42b1-ab2f-8c2a61be4167",
   "metadata": {},
   "outputs": [],
   "source": [
    "df['year_aired'] = pd.to_numeric(df['year_aired'], errors='coerce')"
   ]
  },
  {
   "cell_type": "code",
   "execution_count": 24,
   "id": "66b4232b-b630-4a7a-9f8c-2f739f4fecc0",
   "metadata": {},
   "outputs": [],
   "source": [
    "df['year_ended'] = pd.to_numeric(df['year_ended'], errors='coerce')\n",
    "df['year_ended'] = df['year_ended'].fillna(9999).astype(int)"
   ]
  },
  {
   "cell_type": "markdown",
   "id": "d9029fe7-e30b-4bc9-b249-2ad66afff135",
   "metadata": {},
   "source": [
    "Remove the string 'members' from the columns, so that it only containes the numbers"
   ]
  },
  {
   "cell_type": "code",
   "execution_count": 25,
   "id": "cbe38b6a-ee2b-4d38-a0e8-03679f995154",
   "metadata": {},
   "outputs": [],
   "source": [
    "df['members'] = df['members'].str.replace(' members', '', regex=False)"
   ]
  },
  {
   "cell_type": "code",
   "execution_count": 26,
   "id": "42e14180-759c-49d4-9450-e427aa391ad7",
   "metadata": {},
   "outputs": [],
   "source": [
    "df['members'] = df['members'].str.replace('[^0-9]', '', regex=True).astype(int)"
   ]
  },
  {
   "cell_type": "code",
   "execution_count": 27,
   "id": "cddaf3e5-789b-4d10-a4c8-d591bd3b573d",
   "metadata": {
    "scrolled": true
   },
   "outputs": [
    {
     "data": {
      "text/html": [
       "<div>\n",
       "<style scoped>\n",
       "    .dataframe tbody tr th:only-of-type {\n",
       "        vertical-align: middle;\n",
       "    }\n",
       "\n",
       "    .dataframe tbody tr th {\n",
       "        vertical-align: top;\n",
       "    }\n",
       "\n",
       "    .dataframe thead th {\n",
       "        text-align: right;\n",
       "    }\n",
       "</style>\n",
       "<table border=\"1\" class=\"dataframe\">\n",
       "  <thead>\n",
       "    <tr style=\"text-align: right;\">\n",
       "      <th></th>\n",
       "      <th>Rank</th>\n",
       "      <th>Title</th>\n",
       "      <th>Score</th>\n",
       "      <th>episodes</th>\n",
       "      <th>date_aired</th>\n",
       "      <th>members</th>\n",
       "      <th>release_type</th>\n",
       "      <th>date_ended</th>\n",
       "      <th>month_aired</th>\n",
       "      <th>year_aired</th>\n",
       "      <th>month_ended</th>\n",
       "      <th>year_ended</th>\n",
       "    </tr>\n",
       "  </thead>\n",
       "  <tbody>\n",
       "    <tr>\n",
       "      <th>0</th>\n",
       "      <td>1</td>\n",
       "      <td>Shingeki no Kyojin</td>\n",
       "      <td>8.56</td>\n",
       "      <td>25</td>\n",
       "      <td>Apr 2013</td>\n",
       "      <td>4158024</td>\n",
       "      <td>TV</td>\n",
       "      <td>Sep 2013</td>\n",
       "      <td>Apr</td>\n",
       "      <td>2013</td>\n",
       "      <td>Sep</td>\n",
       "      <td>2013</td>\n",
       "    </tr>\n",
       "    <tr>\n",
       "      <th>1</th>\n",
       "      <td>2</td>\n",
       "      <td>Death Note</td>\n",
       "      <td>8.62</td>\n",
       "      <td>37</td>\n",
       "      <td>Oct 2006</td>\n",
       "      <td>4102384</td>\n",
       "      <td>TV</td>\n",
       "      <td>Jun 2007</td>\n",
       "      <td>Oct</td>\n",
       "      <td>2006</td>\n",
       "      <td>Jun</td>\n",
       "      <td>2007</td>\n",
       "    </tr>\n",
       "    <tr>\n",
       "      <th>2</th>\n",
       "      <td>3</td>\n",
       "      <td>Fullmetal Alchemist: Brotherhood</td>\n",
       "      <td>9.10</td>\n",
       "      <td>64</td>\n",
       "      <td>Apr 2009</td>\n",
       "      <td>3519653</td>\n",
       "      <td>TV</td>\n",
       "      <td>Jul 2010</td>\n",
       "      <td>Apr</td>\n",
       "      <td>2009</td>\n",
       "      <td>Jul</td>\n",
       "      <td>2010</td>\n",
       "    </tr>\n",
       "    <tr>\n",
       "      <th>3</th>\n",
       "      <td>4</td>\n",
       "      <td>One Punch Man</td>\n",
       "      <td>8.49</td>\n",
       "      <td>12</td>\n",
       "      <td>Oct 2015</td>\n",
       "      <td>3380575</td>\n",
       "      <td>TV</td>\n",
       "      <td>Dec 2015</td>\n",
       "      <td>Oct</td>\n",
       "      <td>2015</td>\n",
       "      <td>Dec</td>\n",
       "      <td>2015</td>\n",
       "    </tr>\n",
       "    <tr>\n",
       "      <th>4</th>\n",
       "      <td>5</td>\n",
       "      <td>Kimetsu no Yaiba</td>\n",
       "      <td>8.43</td>\n",
       "      <td>26</td>\n",
       "      <td>Apr 2019</td>\n",
       "      <td>3248495</td>\n",
       "      <td>TV</td>\n",
       "      <td>Sep 2019</td>\n",
       "      <td>Apr</td>\n",
       "      <td>2019</td>\n",
       "      <td>Sep</td>\n",
       "      <td>2019</td>\n",
       "    </tr>\n",
       "  </tbody>\n",
       "</table>\n",
       "</div>"
      ],
      "text/plain": [
       "  Rank                             Title  Score  episodes date_aired  members  \\\n",
       "0    1                Shingeki no Kyojin   8.56        25   Apr 2013  4158024   \n",
       "1    2                        Death Note   8.62        37   Oct 2006  4102384   \n",
       "2    3  Fullmetal Alchemist: Brotherhood   9.10        64   Apr 2009  3519653   \n",
       "3    4                     One Punch Man   8.49        12   Oct 2015  3380575   \n",
       "4    5                  Kimetsu no Yaiba   8.43        26   Apr 2019  3248495   \n",
       "\n",
       "  release_type date_ended month_aired  year_aired month_ended  year_ended  \n",
       "0           TV   Sep 2013         Apr        2013         Sep        2013  \n",
       "1           TV   Jun 2007         Oct        2006         Jun        2007  \n",
       "2           TV   Jul 2010         Apr        2009         Jul        2010  \n",
       "3           TV   Dec 2015         Oct        2015         Dec        2015  \n",
       "4           TV   Sep 2019         Apr        2019         Sep        2019  "
      ]
     },
     "execution_count": 27,
     "metadata": {},
     "output_type": "execute_result"
    }
   ],
   "source": [
    "df.head()"
   ]
  },
  {
   "cell_type": "markdown",
   "id": "6f6df848-eee7-4cdf-94e4-8237dbd9cff8",
   "metadata": {
    "jp-MarkdownHeadingCollapsed": true
   },
   "source": [
    "# Data Visualization"
   ]
  },
  {
   "cell_type": "markdown",
   "id": "8bc86e02-854c-4330-8f87-c21fcc7821cd",
   "metadata": {},
   "source": [
    "Top 250 Anime List That Released per Year "
   ]
  },
  {
   "cell_type": "code",
   "execution_count": 36,
   "id": "5f5258e7-6dfc-47f2-b344-dc2b348bb12c",
   "metadata": {
    "scrolled": true
   },
   "outputs": [
    {
     "data": {
      "image/png": "[encoded data removed]",
      "text/plain": [
       "<Figure size 1300x600 with 1 Axes>"
      ]
     },
     "metadata": {},
     "output_type": "display_data"
    }
   ],
   "source": [
    "# Clean year_aired\n",
    "df['year_aired'] = pd.to_numeric(df['year_aired'], errors='coerce')\n",
    "df_clean = df.dropna(subset=['year_aired'])  # remove NaNs\n",
    "df_clean['year_aired'] = df_clean['year_aired'].astype(int)\n",
    "\n",
    "# Count and plot\n",
    "top_anime_per_year = df['year_aired'].value_counts().sort_index()\n",
    "\n",
    "df_plot = pd.DataFrame({\n",
    "    'year': top_anime_per_year.index,\n",
    "    'count': top_anime_per_year.values\n",
    "})\n",
    "\n",
    "plt.figure(figsize=(13, 6))\n",
    "sns.barplot(data=df_plot, x='year', y='count', hue='year', palette='pastel', dodge=False, legend=False)\n",
    "\n",
    "plt.title('Number of Top 250 Anime Released per Year', fontsize=14)\n",
    "plt.xlabel('Year Aired')\n",
    "plt.ylabel('Number of Anime in Top 250')\n",
    "plt.xticks(rotation=45)\n",
    "plt.tight_layout()\n",
    "plt.show()"
   ]
  },
  {
   "cell_type": "markdown",
   "id": "476d52df-00fa-4d6d-89bf-74712625a87a",
   "metadata": {},
   "source": [
    "Visualization: Top 250 Anime by Release Type"
   ]
  },
  {
   "cell_type": "code",
   "execution_count": 33,
   "id": "f6ea031b-9ae4-40dd-8418-dcf67bc5c9e7",
   "metadata": {},
   "outputs": [
    {
     "data": {
      "image/png": "[encoded data removed]",
      "text/plain": [
       "<Figure size 1000x600 with 1 Axes>"
      ]
     },
     "metadata": {},
     "output_type": "display_data"
    }
   ],
   "source": [
    "df_clean = df.dropna(subset=['release_type'])\n",
    "\n",
    "# Count per release_type\n",
    "release_counts = df_clean['release_type'].value_counts().reset_index()\n",
    "release_counts.columns = ['release_type', 'count']\n",
    "\n",
    "# Plot with a color palette\n",
    "plt.figure(figsize=(10, 6))\n",
    "sns.barplot(data=release_counts, x='release_type', y='count', hue='release_type', palette='Set2')\n",
    "\n",
    "plt.title('Top 250 Anime by Release Type')\n",
    "plt.xlabel('Release Type')\n",
    "plt.ylabel('Number of Anime')\n",
    "plt.tight_layout()\n",
    "plt.show()"
   ]
  },
  {
   "cell_type": "markdown",
   "id": "0612a092-b2a1-43e9-b829-ae1b9a4be41d",
   "metadata": {},
   "source": [
    "# Data Export"
   ]
  },
  {
   "cell_type": "code",
   "execution_count": 28,
   "id": "fa00db5b-7683-4647-ab82-4a5395e1625c",
   "metadata": {},
   "outputs": [],
   "source": [
    "df_final = df.reindex(columns=['Rank', 'Title', 'Score', 'release_type', 'episodes', 'month_aired', 'year_aired', 'month_ended', 'year_ended', 'members'])"
   ]
  },
  {
   "cell_type": "code",
   "execution_count": 30,
   "id": "bb5f4b35-d94c-4730-99b4-b86b5ca4e297",
   "metadata": {},
   "outputs": [],
   "source": [
    "df_final.to_excel(\"result_scraping_anime_top_ranking.xlsx\",index=False)"
   ]
  },
  {
   "cell_type": "code",
   "execution_count": 31,
   "id": "b43e8aec-8fe3-4470-a6b2-544484cbdda4",
   "metadata": {
    "scrolled": true
   },
   "outputs": [
    {
     "data": {
      "text/html": [
       "<div>\n",
       "<style scoped>\n",
       "    .dataframe tbody tr th:only-of-type {\n",
       "        vertical-align: middle;\n",
       "    }\n",
       "\n",
       "    .dataframe tbody tr th {\n",
       "        vertical-align: top;\n",
       "    }\n",
       "\n",
       "    .dataframe thead th {\n",
       "        text-align: right;\n",
       "    }\n",
       "</style>\n",
       "<table border=\"1\" class=\"dataframe\">\n",
       "  <thead>\n",
       "    <tr style=\"text-align: right;\">\n",
       "      <th></th>\n",
       "      <th>Rank</th>\n",
       "      <th>Title</th>\n",
       "      <th>Score</th>\n",
       "      <th>release_type</th>\n",
       "      <th>episodes</th>\n",
       "      <th>month_aired</th>\n",
       "      <th>year_aired</th>\n",
       "      <th>month_ended</th>\n",
       "      <th>year_ended</th>\n",
       "      <th>members</th>\n",
       "    </tr>\n",
       "  </thead>\n",
       "  <tbody>\n",
       "    <tr>\n",
       "      <th>0</th>\n",
       "      <td>1</td>\n",
       "      <td>Shingeki no Kyojin</td>\n",
       "      <td>8.56</td>\n",
       "      <td>TV</td>\n",
       "      <td>25</td>\n",
       "      <td>Apr</td>\n",
       "      <td>2013</td>\n",
       "      <td>Sep</td>\n",
       "      <td>2013</td>\n",
       "      <td>4158024</td>\n",
       "    </tr>\n",
       "    <tr>\n",
       "      <th>1</th>\n",
       "      <td>2</td>\n",
       "      <td>Death Note</td>\n",
       "      <td>8.62</td>\n",
       "      <td>TV</td>\n",
       "      <td>37</td>\n",
       "      <td>Oct</td>\n",
       "      <td>2006</td>\n",
       "      <td>Jun</td>\n",
       "      <td>2007</td>\n",
       "      <td>4102384</td>\n",
       "    </tr>\n",
       "    <tr>\n",
       "      <th>2</th>\n",
       "      <td>3</td>\n",
       "      <td>Fullmetal Alchemist: Brotherhood</td>\n",
       "      <td>9.10</td>\n",
       "      <td>TV</td>\n",
       "      <td>64</td>\n",
       "      <td>Apr</td>\n",
       "      <td>2009</td>\n",
       "      <td>Jul</td>\n",
       "      <td>2010</td>\n",
       "      <td>3519653</td>\n",
       "    </tr>\n",
       "    <tr>\n",
       "      <th>3</th>\n",
       "      <td>4</td>\n",
       "      <td>One Punch Man</td>\n",
       "      <td>8.49</td>\n",
       "      <td>TV</td>\n",
       "      <td>12</td>\n",
       "      <td>Oct</td>\n",
       "      <td>2015</td>\n",
       "      <td>Dec</td>\n",
       "      <td>2015</td>\n",
       "      <td>3380575</td>\n",
       "    </tr>\n",
       "    <tr>\n",
       "      <th>4</th>\n",
       "      <td>5</td>\n",
       "      <td>Kimetsu no Yaiba</td>\n",
       "      <td>8.43</td>\n",
       "      <td>TV</td>\n",
       "      <td>26</td>\n",
       "      <td>Apr</td>\n",
       "      <td>2019</td>\n",
       "      <td>Sep</td>\n",
       "      <td>2019</td>\n",
       "      <td>3248495</td>\n",
       "    </tr>\n",
       "  </tbody>\n",
       "</table>\n",
       "</div>"
      ],
      "text/plain": [
       "  Rank                             Title  Score release_type  episodes  \\\n",
       "0    1                Shingeki no Kyojin   8.56           TV        25   \n",
       "1    2                        Death Note   8.62           TV        37   \n",
       "2    3  Fullmetal Alchemist: Brotherhood   9.10           TV        64   \n",
       "3    4                     One Punch Man   8.49           TV        12   \n",
       "4    5                  Kimetsu no Yaiba   8.43           TV        26   \n",
       "\n",
       "  month_aired  year_aired month_ended  year_ended  members  \n",
       "0         Apr        2013         Sep        2013  4158024  \n",
       "1         Oct        2006         Jun        2007  4102384  \n",
       "2         Apr        2009         Jul        2010  3519653  \n",
       "3         Oct        2015         Dec        2015  3380575  \n",
       "4         Apr        2019         Sep        2019  3248495  "
      ]
     },
     "execution_count": 31,
     "metadata": {},
     "output_type": "execute_result"
    }
   ],
   "source": [
    "df_final.head()"
   ]
  }
 ],
 "metadata": {
  "kernelspec": {
   "display_name": "Python 3 (ipykernel)",
   "language": "python",
   "name": "python3"
  },
  "language_info": {
   "codemirror_mode": {
    "name": "ipython",
    "version": 3
   },
   "file_extension": ".py",
   "mimetype": "text/x-python",
   "name": "python",
   "nbconvert_exporter": "python",
   "pygments_lexer": "ipython3",
   "version": "3.12.6"
  }
 },
 "nbformat": 4,
 "nbformat_minor": 5
}
